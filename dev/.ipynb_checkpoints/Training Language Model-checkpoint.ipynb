{
 "cells": [
  {
   "cell_type": "markdown",
   "metadata": {},
   "source": [
    "# Training Language Model\n",
    "\n",
    "In this notebook we will train our LM model based on Bengio embedding method."
   ]
  },
  {
   "cell_type": "code",
   "execution_count": 1,
   "metadata": {},
   "outputs": [],
   "source": [
    "# Defining parameters\n",
    "\n",
    "CONTEXT_SIZE = 5\n",
    "BATCH_SIZE = 256\n",
    "LR = 8e-3\n",
    "HIDDEN_DIM = 128\n",
    "EMBEDDING_DIM = 50"
   ]
  },
  {
   "cell_type": "markdown",
   "metadata": {},
   "source": [
    "## Importing packages"
   ]
  },
  {
   "cell_type": "code",
   "execution_count": 2,
   "metadata": {},
   "outputs": [
    {
     "name": "stdout",
     "output_type": "stream",
     "text": [
      "Using cuda:0\n"
     ]
    }
   ],
   "source": [
    "import pandas as pd\n",
    "import numpy as np\n",
    "import matplotlib.pyplot as plt\n",
    "%matplotlib inline \n",
    "import collections\n",
    "import itertools\n",
    "import random\n",
    "import torch\n",
    "\n",
    "from transformers import GPT2LMHeadModel, GPT2Tokenizer\n",
    "\n",
    "import torch.nn as nn\n",
    "\n",
    "import os\n",
    "\n",
    "import numpy as np\n",
    "import matplotlib.pyplot as plt\n",
    "%matplotlib inline\n",
    "from tqdm import tqdm_notebook\n",
    "\n",
    "from sklearn. model_selection import train_test_split\n",
    "import torch.nn.functional as F\n",
    "from torch.utils.data import TensorDataset, DataLoader\n",
    "\n",
    "if torch.cuda.is_available(): \n",
    "    dev = \"cuda:0\"\n",
    "else: \n",
    "    dev = \"cpu\"\n",
    "device = torch.device(dev)\n",
    "print('Using {}'.format(device))"
   ]
  },
  {
   "cell_type": "code",
   "execution_count": 3,
   "metadata": {},
   "outputs": [],
   "source": [
    "# Setting up seeds\n",
    "seed = 42\n",
    "\n",
    "torch.manual_seed(seed)\n",
    "torch.cuda.manual_seed_all(seed)\n",
    "torch.backends.cudnn.deterministic = True\n",
    "torch.backends.cudnn.benchmark = False\n",
    "np.random.seed(seed)\n",
    "random.seed(seed)\n",
    "os.environ['PYTHONHASHSEED'] = str(seed)"
   ]
  },
  {
   "cell_type": "code",
   "execution_count": 4,
   "metadata": {},
   "outputs": [
    {
     "data": {
      "text/html": [
       "<div>\n",
       "<style scoped>\n",
       "    .dataframe tbody tr th:only-of-type {\n",
       "        vertical-align: middle;\n",
       "    }\n",
       "\n",
       "    .dataframe tbody tr th {\n",
       "        vertical-align: top;\n",
       "    }\n",
       "\n",
       "    .dataframe thead th {\n",
       "        text-align: right;\n",
       "    }\n",
       "</style>\n",
       "<table border=\"1\" class=\"dataframe\">\n",
       "  <thead>\n",
       "    <tr style=\"text-align: right;\">\n",
       "      <th></th>\n",
       "      <th>id</th>\n",
       "      <th>text</th>\n",
       "      <th>author</th>\n",
       "    </tr>\n",
       "  </thead>\n",
       "  <tbody>\n",
       "    <tr>\n",
       "      <th>0</th>\n",
       "      <td>id26305</td>\n",
       "      <td>This process, however, afforded me no means of...</td>\n",
       "      <td>EAP</td>\n",
       "    </tr>\n",
       "    <tr>\n",
       "      <th>1</th>\n",
       "      <td>id17569</td>\n",
       "      <td>It never once occurred to me that the fumbling...</td>\n",
       "      <td>HPL</td>\n",
       "    </tr>\n",
       "    <tr>\n",
       "      <th>2</th>\n",
       "      <td>id11008</td>\n",
       "      <td>In his left hand was a gold snuff box, from wh...</td>\n",
       "      <td>EAP</td>\n",
       "    </tr>\n",
       "    <tr>\n",
       "      <th>3</th>\n",
       "      <td>id27763</td>\n",
       "      <td>How lovely is spring As we looked from Windsor...</td>\n",
       "      <td>MWS</td>\n",
       "    </tr>\n",
       "    <tr>\n",
       "      <th>4</th>\n",
       "      <td>id12958</td>\n",
       "      <td>Finding nothing else, not even gold, the Super...</td>\n",
       "      <td>HPL</td>\n",
       "    </tr>\n",
       "  </tbody>\n",
       "</table>\n",
       "</div>"
      ],
      "text/plain": [
       "        id                                               text author\n",
       "0  id26305  This process, however, afforded me no means of...    EAP\n",
       "1  id17569  It never once occurred to me that the fumbling...    HPL\n",
       "2  id11008  In his left hand was a gold snuff box, from wh...    EAP\n",
       "3  id27763  How lovely is spring As we looked from Windsor...    MWS\n",
       "4  id12958  Finding nothing else, not even gold, the Super...    HPL"
      ]
     },
     "execution_count": 4,
     "metadata": {},
     "output_type": "execute_result"
    }
   ],
   "source": [
    "# Read dataset\n",
    "data = pd.read_csv(\"../deliver/train/train.csv\")\n",
    "data.head()"
   ]
  },
  {
   "cell_type": "code",
   "execution_count": 5,
   "metadata": {},
   "outputs": [],
   "source": [
    "# Function that builds our vocabulary\n",
    "def build_vocab(tokens, vocab_size):\n",
    "    word_frequency = collections.Counter(tokens)\n",
    "\n",
    "    vocab = {token: index for index, (token, _) in enumerate(\n",
    "        word_frequency.most_common(vocab_size))}\n",
    "\n",
    "    # Adicionamos o token \"<unk>\" para lidar com palavras não presentes no\n",
    "    # vocabulário . O dataset text8 já contem este token, mas pode ser que ele\n",
    "    # não tenha sido adicionado quando filtramos com `vocab_size`.\n",
    "    if '<unk>' not in vocab:\n",
    "        vocab['<unk>'] = len(vocab)\n",
    "\n",
    "    # Adicionando o padding como um token\n",
    "    if '<pad>' not in vocab:\n",
    "        vocab['<pad>'] = len(vocab)\n",
    "        \n",
    "    return vocab "
   ]
  },
  {
   "cell_type": "code",
   "execution_count": 6,
   "metadata": {},
   "outputs": [
    {
     "name": "stdout",
     "output_type": "stream",
     "text": [
      "523356\n"
     ]
    }
   ],
   "source": [
    "# Printing some examples\n",
    "unique_tokens = ' '.join(data['text'].values).lower()\n",
    "train_tokens = unique_tokens.split()\n",
    "print(len(train_tokens))"
   ]
  },
  {
   "cell_type": "code",
   "execution_count": 7,
   "metadata": {},
   "outputs": [
    {
     "name": "stdout",
     "output_type": "stream",
     "text": [
      "Length of unique tokens:  44895\n"
     ]
    }
   ],
   "source": [
    "# Printing how many unique tokens is there\n",
    "print('Length of unique tokens: ', len(set(train_tokens)))"
   ]
  },
  {
   "cell_type": "code",
   "execution_count": 8,
   "metadata": {},
   "outputs": [
    {
     "name": "stdout",
     "output_type": "stream",
     "text": [
      "First 10 tokens: ['this', 'process,', 'however,', 'afforded', 'me', 'no', 'means', 'of', 'ascertaining', 'the']\n"
     ]
    }
   ],
   "source": [
    "print('First 10 tokens:',train_tokens[:10])"
   ]
  },
  {
   "cell_type": "code",
   "execution_count": 9,
   "metadata": {},
   "outputs": [
    {
     "name": "stdout",
     "output_type": "stream",
     "text": [
      "Encode for EAP: 44897 MWS: 44898 HPL: 44899\n",
      "Vocab has 44900 tokens\n",
      "10 sample tokens: ['the', 'of', 'and', 'to', 'a', 'i', 'in', 'was', 'that', 'my']\n"
     ]
    }
   ],
   "source": [
    "# Effectively building our vocabulary\n",
    "vocab_size = 70000\n",
    "vocab = build_vocab(train_tokens, vocab_size=vocab_size)\n",
    "\n",
    "# Adding the 3 author in vocab\n",
    "vocab['EAP'] = len(vocab) \n",
    "vocab['MWS'] = len(vocab)\n",
    "vocab['HPL'] = len(vocab)\n",
    "\n",
    "print(f\"Encode for EAP: {vocab['EAP']} MWS: {vocab['MWS']} HPL: {vocab['HPL']}\")\n",
    "\n",
    "print(f'Vocab has {len(vocab)} tokens')\n",
    "print(f'10 sample tokens: {list(itertools.islice(vocab.keys(), 10))}')"
   ]
  },
  {
   "cell_type": "code",
   "execution_count": 10,
   "metadata": {},
   "outputs": [],
   "source": [
    "# Just an auxiliary \"transposed\" vocabulary to generate words\n",
    "from collections import defaultdict\n",
    "vocab_t = defaultdict(list)\n",
    "for k, v in vocab.items():\n",
    "    vocab_t[v].append(k)"
   ]
  },
  {
   "cell_type": "code",
   "execution_count": 11,
   "metadata": {},
   "outputs": [],
   "source": [
    "import pickle"
   ]
  },
  {
   "cell_type": "code",
   "execution_count": 13,
   "metadata": {},
   "outputs": [],
   "source": [
    "with open('vocab.pkl', 'wb') as f:\n",
    "    pickle.dump(vocab, f)\n",
    "    \n",
    "with open('vocab_t.pkl', 'wb') as f:\n",
    "    pickle.dump(vocab_t, f)"
   ]
  },
  {
   "cell_type": "code",
   "execution_count": 11,
   "metadata": {},
   "outputs": [],
   "source": [
    "# Function that generate n grams https://pytorch.org/tutorials/beginner/nlp/word_embeddings_tutorial.html\n",
    "def get_ngrams(tokens, vocab ,n = 5):\n",
    "    '''\n",
    "    Função que recebe uma lista de tokens e retorna os índices, de acordo com o vocab, dos n-grams de tamanho n com base no vocab passado\n",
    "\n",
    "    '''\n",
    "\n",
    "    # Primeiro adicionamos n-1 <pad> no começo dos tokens\n",
    "    local_tokens = (n-1)*['<pad>'] + tokens.copy() \n",
    "\n",
    "    # Array que guardará o vetor de contextos\n",
    "    context_df = []\n",
    "    # Array que guardará os tokens target para cada contexto\n",
    "    target_token = []\n",
    "\n",
    "  # Para cada token de 0 a len(tokens) - n - 1(já que vamos usar até i+n tokens por contexto e o i+n+1 é o target)\n",
    "    for i in range(len(local_tokens) - n):\n",
    "    # Vetor auxiliar que será incrementado ao context_df\n",
    "        aux_df = []\n",
    "\n",
    "        # Loop que percorre os primeiros n tokens\n",
    "        for j in range(i, i+n):\n",
    "            if(local_tokens[j] not in vocab):\n",
    "                aux_df.append(vocab[\"<unk>\"])\n",
    "            else:\n",
    "                aux_df.append(vocab[local_tokens[j]])\n",
    "\n",
    "        # Incrementa o context_df\n",
    "        context_df.append(aux_df)\n",
    "\n",
    "        # Incrementa o target_token com o i+n+1 token\n",
    "        if(local_tokens[i+n] not in vocab):\n",
    "            target_token.append(vocab[\"<unk>\"])\n",
    "        else:\n",
    "            target_token.append(vocab[local_tokens[i+n]])\n",
    "\n",
    "    # Retorno numpy arrays por comodidade minha, mas poderiam ser tensores direto\n",
    "    return context_df, target_token"
   ]
  },
  {
   "cell_type": "code",
   "execution_count": 12,
   "metadata": {},
   "outputs": [],
   "source": [
    "def tokens2word(list_tokens, vocab_transposed):\n",
    "    '''\n",
    "        This function transform a list of tokens ids to string with the correspondent phrase.\n",
    "    '''\n",
    "    \n",
    "    return ' '.join([vocab_transposed[t][0] for t in list_tokens])"
   ]
  },
  {
   "cell_type": "code",
   "execution_count": 13,
   "metadata": {},
   "outputs": [
    {
     "name": "stdout",
     "output_type": "stream",
     "text": [
      "ENCODED TOKENS:\n",
      "\n",
      " ([[44896, 44896, 44896, 44896, 44896, 33093], [44896, 44896, 44896, 44896, 33093, 9], [44896, 44896, 44896, 33093, 9, 304], [44896, 44896, 33093, 9, 304, 23], [44896, 33093, 9, 304, 23, 44895], [33093, 9, 304, 23, 44895, 2], [9, 304, 23, 44895, 2, 5], [304, 23, 44895, 2, 5, 118], [23, 44895, 2, 5, 118, 803], [44895, 2, 5, 118, 803, 3], [2, 5, 118, 803, 3, 833], [5, 118, 803, 3, 833, 44895], [118, 803, 3, 833, 44895, 5], [803, 3, 833, 44895, 5, 423], [3, 833, 44895, 5, 423, 76], [833, 44895, 5, 423, 76, 113], [44895, 5, 423, 76, 113, 35]], [9, 304, 23, 44895, 2, 5, 118, 803, 3, 833, 44895, 5, 423, 76, 113, 35, 56])\n",
      "\n",
      "\n",
      "DECODED TOKENS:                                     TARGET TOKEN \n",
      "\n",
      "\n",
      "<pad> <pad> <pad> <pad> <pad> hey                      my\n",
      "<pad> <pad> <pad> <pad> hey my                      name\n",
      "<pad> <pad> <pad> hey my name                      is\n",
      "<pad> <pad> hey my name is                      <unk>\n",
      "<pad> hey my name is <unk>                      and\n",
      "hey my name is <unk> and                      i\n",
      "my name is <unk> and i                      am\n",
      "name is <unk> and i am                      pleasure\n",
      "is <unk> and i am pleasure                      to\n",
      "<unk> and i am pleasure to                      meet\n",
      "and i am pleasure to meet                      <unk>\n",
      "i am pleasure to meet <unk>                      i\n",
      "am pleasure to meet <unk> i                      really\n",
      "pleasure to meet <unk> i really                      like\n",
      "to meet <unk> i really like                      how\n",
      "meet <unk> i really like how                      you\n",
      "<unk> i really like how you                      are\n"
     ]
    }
   ],
   "source": [
    "# Example of usage\n",
    "example = 'hey my name is lucas and i am pleasure to meet you! i really like how you are'\n",
    "example = example.split()\n",
    "encoded_tokens = get_ngrams(example, vocab ,n = 6)\n",
    "\n",
    "print(\"ENCODED TOKENS:\\n\\n\", encoded_tokens)\n",
    "\n",
    "print(\"\\n\\nDECODED TOKENS:\", 35*' ', \"TARGET TOKEN\",\"\\n\\n\")\n",
    "for i,f in enumerate(encoded_tokens[0]):\n",
    "    print(tokens2word(list(f), vocab_t), 20*' ',tokens2word([encoded_tokens[1][i]], vocab_t))"
   ]
  },
  {
   "cell_type": "markdown",
   "metadata": {},
   "source": [
    "Now, we are use this function just to iterate over our train dataset"
   ]
  },
  {
   "cell_type": "code",
   "execution_count": 14,
   "metadata": {},
   "outputs": [],
   "source": [
    "def generate_df(df, vocab, vocab_t, len_context = 5):\n",
    "    results_list = []\n",
    "    target_list = []\n",
    "    author_list = []\n",
    "    \n",
    "    i = 0\n",
    "    for text, author in zip(df.text, df.author):\n",
    "#         print([text],author)\n",
    "#         print((author+' '+text).split())\n",
    "        encoded = get_ngrams((author+' '+text).split(), vocab ,n = len_context)\n",
    "#         print([text],encoded[0])\n",
    "#         i+=1\n",
    "#         if(i>10):\n",
    "#             break\n",
    "        \n",
    "        results_list.extend(encoded[0])\n",
    "        target_list.extend(encoded[1])\n",
    "        author_list.extend(len(encoded[1])*[vocab[author]])\n",
    "        \n",
    "    return results_list, target_list, author_list"
   ]
  },
  {
   "cell_type": "code",
   "execution_count": 15,
   "metadata": {},
   "outputs": [],
   "source": [
    "l, t, a = generate_df(data, vocab, vocab_t, len_context = CONTEXT_SIZE)"
   ]
  },
  {
   "cell_type": "code",
   "execution_count": 16,
   "metadata": {},
   "outputs": [
    {
     "data": {
      "text/plain": [
       "523356"
      ]
     },
     "execution_count": 16,
     "metadata": {},
     "output_type": "execute_result"
    }
   ],
   "source": [
    "len(l)"
   ]
  },
  {
   "cell_type": "code",
   "execution_count": 17,
   "metadata": {},
   "outputs": [
    {
     "data": {
      "text/plain": [
       "523356"
      ]
     },
     "execution_count": 17,
     "metadata": {},
     "output_type": "execute_result"
    }
   ],
   "source": [
    "len(t)"
   ]
  },
  {
   "cell_type": "code",
   "execution_count": 18,
   "metadata": {},
   "outputs": [
    {
     "data": {
      "text/plain": [
       "523356"
      ]
     },
     "execution_count": 18,
     "metadata": {},
     "output_type": "execute_result"
    }
   ],
   "source": [
    "len(a)"
   ]
  },
  {
   "cell_type": "code",
   "execution_count": 19,
   "metadata": {},
   "outputs": [
    {
     "data": {
      "text/html": [
       "<div>\n",
       "<style scoped>\n",
       "    .dataframe tbody tr th:only-of-type {\n",
       "        vertical-align: middle;\n",
       "    }\n",
       "\n",
       "    .dataframe tbody tr th {\n",
       "        vertical-align: top;\n",
       "    }\n",
       "\n",
       "    .dataframe thead th {\n",
       "        text-align: right;\n",
       "    }\n",
       "</style>\n",
       "<table border=\"1\" class=\"dataframe\">\n",
       "  <thead>\n",
       "    <tr style=\"text-align: right;\">\n",
       "      <th></th>\n",
       "      <th>context</th>\n",
       "      <th>target</th>\n",
       "      <th>author</th>\n",
       "    </tr>\n",
       "  </thead>\n",
       "  <tbody>\n",
       "    <tr>\n",
       "      <th>0</th>\n",
       "      <td>[44896, 44896, 44896, 44896, 44897]</td>\n",
       "      <td>44895</td>\n",
       "      <td>44897</td>\n",
       "    </tr>\n",
       "    <tr>\n",
       "      <th>1</th>\n",
       "      <td>[44896, 44896, 44896, 44897, 44895]</td>\n",
       "      <td>8206</td>\n",
       "      <td>44897</td>\n",
       "    </tr>\n",
       "    <tr>\n",
       "      <th>2</th>\n",
       "      <td>[44896, 44896, 44897, 44895, 8206]</td>\n",
       "      <td>141</td>\n",
       "      <td>44897</td>\n",
       "    </tr>\n",
       "    <tr>\n",
       "      <th>3</th>\n",
       "      <td>[44896, 44897, 44895, 8206, 141]</td>\n",
       "      <td>1330</td>\n",
       "      <td>44897</td>\n",
       "    </tr>\n",
       "    <tr>\n",
       "      <th>4</th>\n",
       "      <td>[44897, 44895, 8206, 141, 1330]</td>\n",
       "      <td>30</td>\n",
       "      <td>44897</td>\n",
       "    </tr>\n",
       "  </tbody>\n",
       "</table>\n",
       "</div>"
      ],
      "text/plain": [
       "                               context  target  author\n",
       "0  [44896, 44896, 44896, 44896, 44897]   44895   44897\n",
       "1  [44896, 44896, 44896, 44897, 44895]    8206   44897\n",
       "2   [44896, 44896, 44897, 44895, 8206]     141   44897\n",
       "3     [44896, 44897, 44895, 8206, 141]    1330   44897\n",
       "4      [44897, 44895, 8206, 141, 1330]      30   44897"
      ]
     },
     "execution_count": 19,
     "metadata": {},
     "output_type": "execute_result"
    }
   ],
   "source": [
    "df = pd.DataFrame({'context': l, 'target': t, 'author': a})\n",
    "df.head()"
   ]
  },
  {
   "cell_type": "code",
   "execution_count": 20,
   "metadata": {},
   "outputs": [],
   "source": [
    "# Spliting in train and validation dataset\n",
    "df_train, df_val = train_test_split(df, test_size = 0.1, random_state = 42, shuffle= True, stratify=df.author)\n",
    "\n",
    "df_val_authors = df_val.author"
   ]
  },
  {
   "cell_type": "code",
   "execution_count": 21,
   "metadata": {},
   "outputs": [
    {
     "name": "stdout",
     "output_type": "stream",
     "text": [
      "val size:  (52336, 3)\n"
     ]
    },
    {
     "data": {
      "text/html": [
       "<div>\n",
       "<style scoped>\n",
       "    .dataframe tbody tr th:only-of-type {\n",
       "        vertical-align: middle;\n",
       "    }\n",
       "\n",
       "    .dataframe tbody tr th {\n",
       "        vertical-align: top;\n",
       "    }\n",
       "\n",
       "    .dataframe thead th {\n",
       "        text-align: right;\n",
       "    }\n",
       "</style>\n",
       "<table border=\"1\" class=\"dataframe\">\n",
       "  <thead>\n",
       "    <tr style=\"text-align: right;\">\n",
       "      <th></th>\n",
       "      <th>context</th>\n",
       "      <th>target</th>\n",
       "      <th>author</th>\n",
       "    </tr>\n",
       "  </thead>\n",
       "  <tbody>\n",
       "    <tr>\n",
       "      <th>51367</th>\n",
       "      <td>[44895, 105, 35, 398, 30]</td>\n",
       "      <td>44895</td>\n",
       "      <td>44897</td>\n",
       "    </tr>\n",
       "    <tr>\n",
       "      <th>388580</th>\n",
       "      <td>[44896, 44896, 44897, 44895, 37]</td>\n",
       "      <td>23</td>\n",
       "      <td>44897</td>\n",
       "    </tr>\n",
       "    <tr>\n",
       "      <th>44587</th>\n",
       "      <td>[2, 243, 64, 3, 3104]</td>\n",
       "      <td>0</td>\n",
       "      <td>44899</td>\n",
       "    </tr>\n",
       "    <tr>\n",
       "      <th>439304</th>\n",
       "      <td>[3876, 44895, 675, 4, 6225]</td>\n",
       "      <td>1451</td>\n",
       "      <td>44897</td>\n",
       "    </tr>\n",
       "    <tr>\n",
       "      <th>233289</th>\n",
       "      <td>[40, 191, 3, 3894, 0]</td>\n",
       "      <td>44895</td>\n",
       "      <td>44897</td>\n",
       "    </tr>\n",
       "  </tbody>\n",
       "</table>\n",
       "</div>"
      ],
      "text/plain": [
       "                                 context  target  author\n",
       "51367          [44895, 105, 35, 398, 30]   44895   44897\n",
       "388580  [44896, 44896, 44897, 44895, 37]      23   44897\n",
       "44587              [2, 243, 64, 3, 3104]       0   44899\n",
       "439304       [3876, 44895, 675, 4, 6225]    1451   44897\n",
       "233289             [40, 191, 3, 3894, 0]   44895   44897"
      ]
     },
     "execution_count": 21,
     "metadata": {},
     "output_type": "execute_result"
    }
   ],
   "source": [
    "print('val size: ', df_val.shape)\n",
    "df_val.head()"
   ]
  },
  {
   "cell_type": "code",
   "execution_count": 22,
   "metadata": {},
   "outputs": [],
   "source": [
    "# Transforming in torch tensors\n",
    "\n",
    "# train\n",
    "tensor_train = torch.tensor(df_train.context.tolist(), dtype=torch.long)\n",
    "tensor_target_train = torch.tensor(df_train.target.tolist(), dtype=torch.long)\n",
    "# valid\n",
    "tensor_val = torch.tensor(df_val.context.tolist(), dtype=torch.long)\n",
    "tensor_target_val = torch.tensor(df_val.target.tolist(), dtype=torch.long)"
   ]
  },
  {
   "cell_type": "code",
   "execution_count": 23,
   "metadata": {},
   "outputs": [],
   "source": [
    "df_train = TensorDataset(tensor_train, tensor_target_train)\n",
    "df_val = TensorDataset(tensor_val, tensor_target_val)\n",
    "\n",
    "train_loader = DataLoader(df_train, batch_size = BATCH_SIZE, shuffle = True)\n",
    "val_loader = DataLoader(df_val, batch_size = BATCH_SIZE, shuffle = False)"
   ]
  },
  {
   "cell_type": "code",
   "execution_count": 24,
   "metadata": {},
   "outputs": [],
   "source": [
    "# Defining our model and de decoder function\n",
    "class BengioLModel(nn.Module):\n",
    "\n",
    "    def __init__(self, vocab_size , embedding_dim = 128, hidden_size = 500, context_size = 5):\n",
    "        super().__init__()\n",
    "        self.embedding_layer = nn.Embedding(vocab_size, embedding_dim)\n",
    "        self.linear1 = nn.Linear(context_size * embedding_dim, hidden_size)\n",
    "        self.linear2 = nn.Linear(hidden_size, vocab_size)\n",
    "\n",
    "        self.context_size = context_size\n",
    "        self.embedding_dim = embedding_dim\n",
    "\n",
    "    def forward(self, x):\n",
    "        # Ref: https://pytorch.org/tutorials/beginner/nlp/word_embeddings_tutorial.html\n",
    "        x = self.embedding_layer(x).view(-1,self.context_size*self.embedding_dim)\n",
    "        x = self.linear1(x)\n",
    "        x = torch.tanh(x)\n",
    "        x = self.linear2(x)\n",
    "        \n",
    "        return x\n",
    "    \n",
    "    def embedding(self, x):\n",
    "        x = self.embedding_layer(x).view(-1,self.context_size*self.embedding_dim)\n",
    "        x = self.linear1(x)\n",
    "        \n",
    "        return x\n",
    "    \n",
    "def decode_model(logits, k = 10, p = 0.95, method='greedy'):\n",
    "    \n",
    "    if(method=='greedy'):\n",
    "        \n",
    "        selected_tokens_ids = torch.argmax(model(test)).unsqueeze(dim=0).unsqueeze(dim=0)\n",
    "        \n",
    "    elif(method=='topk'):\n",
    "        # Pegamos os valores e índices do top-10 logitos\n",
    "        values, idxs = logits.topk(k)\n",
    "\n",
    "        # Selecionamos um elemento aleatório de cada elemento do batch com o multinomial + softmax\n",
    "        selected_idx = F.softmax(values, dim=-1).type(torch.float).multinomial(1)\n",
    "\n",
    "        # Aplicamos o vetor de índices no vetor de token_ids e geramos os tokens selecionados\n",
    "        selected_tokens_ids = idxs.gather(-1, selected_idx)\n",
    "    elif(method=='ns'):\n",
    "        # Ordenamos os logitos em ordem decrescente\n",
    "        sorted_logits, sorted_indices = torch.sort(logits, descending=True)\n",
    "        # Geramos probabilidade acumulada pois dai é mais fácil selecionar o ponto de corte (.95)\n",
    "        cumulative_probs = torch.cumsum(F.softmax(sorted_logits, dim=-1), dim=-1)\n",
    "        # Gera vetor auxiliar que guardará os tokens ids\n",
    "        selected_tokens_ids = torch.zeros((1, 1), dtype=torch.long, device=logits.device)\n",
    "        # Para cada elemento do batch\n",
    "        \n",
    "        # Selecionamos os logitos onde o vetor acumulado ainda é menor que 0.95\n",
    "        filtered = sorted_logits[cumulative_probs<p]\n",
    "        # Se não tiver nenhum logito com cumprob <0.95, retornamos aquele com o logito mais alto\n",
    "        if(len(filtered) == 0):\n",
    "            selected_tokens_ids[0] = sorted_indices[0].unsqueeze(dim=0)\n",
    "        # Se não for vazio, então:\n",
    "        else:\n",
    "            # Aplicamos softmax nos logitos filtrados\n",
    "            filtered = F.softmax(filtered, dim = -1)\n",
    "            # Selecionamos os tokens ids selecionados, amostrando um dos logitos filtrados e selecionando o mesmo índice\n",
    "            # dos tokens ids ordenados\n",
    "#             print(filtered, sorted_indices)\n",
    "            selected_tokens_ids = sorted_indices[cumulative_probs<p].gather(-1, F.softmax(filtered, dim=-1).multinomial(1)).unsqueeze(dim=0)\n",
    "        \n",
    "    return selected_tokens_ids"
   ]
  },
  {
   "cell_type": "code",
   "execution_count": 25,
   "metadata": {},
   "outputs": [],
   "source": [
    "## Intanciando modelo, otimizador e função de perda\n",
    "\n",
    "# Model\n",
    "model = BengioLModel(vocab_size = len(vocab) , embedding_dim = EMBEDDING_DIM, hidden_size = HIDDEN_DIM, context_size = CONTEXT_SIZE).to(device)\n",
    "# Otimizador\n",
    "opt = torch.optim.SGD(model.parameters(), LR)\n",
    "# Função de perda\n",
    "loss_func = torch.nn.CrossEntropyLoss()"
   ]
  },
  {
   "cell_type": "code",
   "execution_count": 26,
   "metadata": {},
   "outputs": [],
   "source": [
    "# Definindo função de treino da rede\n",
    "def train(train_loader, val_loader, model, epoch, optimizer, criterion, verbose = True):\n",
    "  \"\"\"\n",
    "  Função que efetua o treinamento da rede. ref: https://towardsdatascience.com/understanding-pytorch-with-an-example-a-step-by-step-tutorial-81fc5f8c4e8e\n",
    "\n",
    "  train_loader: torch df loader de treino\n",
    "  val_loader: torch df loader de validação\n",
    "  model: objeto da rede\n",
    "  epoch: inteiro de quantidade de epocas a rodar\n",
    "  optimizer: otimizador que será utilizado\n",
    "  criterion: loss function que será utilizado\n",
    "  verbose: bool para plotar avanço da rede ou nao\n",
    "\n",
    "  return train_loss, val_loss, train_perplexity, val_perplexity\n",
    "  \n",
    "  \"\"\"\n",
    "\n",
    "  # Definindo listas de returns\n",
    "  train_loss = []\n",
    "  val_loss = []\n",
    "  train_perplexity = []\n",
    "  val_perplexity = []\n",
    "\n",
    "  # Inicio do treinamento\n",
    "  model.train()\n",
    "\n",
    "  for e in range(epoch):\n",
    "    # Definindo os acúmulos de loss e perplexity a serem consolidados ao fim do treinamento em batchs\n",
    "    local_train_loss = 0\n",
    "    local_val_loss = 0\n",
    "    local_train_ppl = 0\n",
    "    local_val_ppl = 0\n",
    "\n",
    "      ####\n",
    "      ####        TREINAMENTO DO MODELO\n",
    "      ####\n",
    "\n",
    "    # Setando modo de treinamento\n",
    "    model.train()\n",
    "\n",
    "    # Normalizador servirá para pegar a média das loss\n",
    "    normalizador = 1\n",
    "\n",
    "    # Começo do treinamento em mini batches\n",
    "    for x, y in train_loader:\n",
    "      # Habilitando gpu \n",
    "      x = x.to(device)\n",
    "      y = y.to(device)\n",
    "\n",
    "      # Foward\n",
    "      y_preds = model(x)\n",
    "\n",
    "      # Loss\n",
    "      loss = criterion(y_preds, y)\n",
    "\n",
    "      # Backpropagation\n",
    "      optimizer.zero_grad()\n",
    "      loss.backward()\n",
    "      optimizer.step()\n",
    "\n",
    "      # Acúmulo de loss e ppl no treino\n",
    "      local_train_loss += loss.item()\n",
    "\n",
    "      # Incremento normalizador\n",
    "      normalizador += 1\n",
    "\n",
    "    # Fim treinamento, vamos consolidar as métricas\n",
    "    mean_train_loss = local_train_loss/normalizador\n",
    "    train_loss.append(mean_train_loss)\n",
    "    train_perplexity.append(np.exp(mean_train_loss))\n",
    "\n",
    "      ####\n",
    "      ####        AVALIACAO DO MODELO\n",
    "      ####\n",
    "\n",
    "    # Começo de avaliação na validação\n",
    "\n",
    "    # Setando modo de avaliação\n",
    "    model.eval()\n",
    "\n",
    "    normalizador = 1\n",
    "\n",
    "    with torch.no_grad():\n",
    "      # Começo da avaliação em mini batches\n",
    "      for x, y in val_loader:\n",
    "        # Habilitando gpu \n",
    "        x = x.to(device)\n",
    "        y = y.to(device)\n",
    "\n",
    "        # Foward\n",
    "        y_preds = model(x)\n",
    "\n",
    "        # Estressando <pad> e <unk> com o -1\n",
    "        y_preds[:,vocab['<pad>']] = -1\n",
    "        y_preds[:,vocab['<unk>']] = -1\n",
    "\n",
    "        # Loss\n",
    "        loss = criterion(y_preds, y)\n",
    "\n",
    "        # Acúmulo de loss \n",
    "        local_val_loss += loss.item()\n",
    "\n",
    "        normalizador += 1\n",
    "\n",
    "    # Fim da avaliação, vamos consolidar as métricas\n",
    "    mean_val_loss = local_val_loss/normalizador\n",
    "    val_loss.append(mean_val_loss)\n",
    "    val_perplexity.append(np.exp(mean_val_loss))\n",
    "\n",
    "      ####\n",
    "      ####        PRINT DE PROGRESSO CASO HABILITADO\n",
    "      ####\n",
    "\n",
    "    if(verbose):\n",
    "      print(f\"EPOCH {e+1}/{epoch}: trainning loss: {mean_train_loss} val loss: {mean_val_loss} | trainning ppl: {np.exp(mean_train_loss)} val ppl: {np.exp(mean_val_loss)}\")\n",
    "\n",
    "  # Return histórico\n",
    "  return train_loss, val_loss, train_perplexity, val_perplexity"
   ]
  },
  {
   "cell_type": "code",
   "execution_count": 27,
   "metadata": {},
   "outputs": [
    {
     "name": "stdout",
     "output_type": "stream",
     "text": [
      "EPOCH 1/10: trainning loss: 9.629123469657836 val loss: 9.49973131383507 | trainning ppl: 15201.10603515535 val ppl: 13356.137738086723\n",
      "EPOCH 2/10: trainning loss: 8.363890815985584 val loss: 8.81547674623508 | trainning ppl: 4289.35141846519 val ppl: 6737.719181297684\n",
      "EPOCH 3/10: trainning loss: 7.845482065261932 val loss: 8.493320784522492 | trainning ppl: 2554.168642789338 val ppl: 4882.051425157567\n",
      "EPOCH 4/10: trainning loss: 7.581278333192542 val loss: 8.306636347354036 | trainning ppl: 1961.1343468213363 val ppl: 4050.665012968311\n",
      "EPOCH 5/10: trainning loss: 7.416263465580896 val loss: 8.183108970956894 | trainning ppl: 1662.808743361961 val ppl: 3579.967391940995\n",
      "EPOCH 6/10: trainning loss: 7.3010644620038585 val loss: 8.094991262676647 | trainning ppl: 1481.876489558068 val ppl: 3278.0082060665454\n",
      "EPOCH 7/10: trainning loss: 7.215320264949933 val loss: 8.027048740572143 | trainning ppl: 1360.1091936422902 val ppl: 3062.689530879496\n",
      "EPOCH 8/10: trainning loss: 7.148593689422773 val loss: 7.973622451708155 | trainning ppl: 1272.315425807474 val ppl: 2903.355603523355\n",
      "EPOCH 9/10: trainning loss: 7.094420517481649 val loss: 7.929361778555564 | trainning ppl: 1205.2237549978834 val ppl: 2777.6534806739464\n",
      "EPOCH 10/10: trainning loss: 7.0489481996415035 val loss: 7.8921698250816865 | trainning ppl: 1151.6468030155027 val ppl: 2676.2446078375033\n"
     ]
    }
   ],
   "source": [
    "train_loss, val_loss, train_ppl, val_ppl = train(train_loader, val_loader, model, epoch = 10, optimizer = opt, criterion = loss_func, verbose = True)"
   ]
  },
  {
   "cell_type": "code",
   "execution_count": 28,
   "metadata": {},
   "outputs": [
    {
     "data": {
      "image/png": "[encoded data removed]",
      "text/plain": [
       "<Figure size 720x360 with 2 Axes>"
      ]
     },
     "metadata": {
      "needs_background": "light"
     },
     "output_type": "display_data"
    }
   ],
   "source": [
    "fig, (ax1, ax2) = plt.subplots(1, 2, figsize = (10,5))\n",
    "\n",
    "# fig.set_title('Estado do modelo 10 épocas',fontsize= 25)\n",
    "\n",
    "# plt.figure(figsize=(20,6))\n",
    "ax1.set_title(\"Gráfico de perda por epocas\")\n",
    "ax1.plot(train_loss, label = 'perda treino')\n",
    "ax1.plot(val_loss, label = 'perda validação')\n",
    "ax1.set_xlabel(\"Epocas\")\n",
    "ax1.set_ylabel(\"Perda\")\n",
    "ax1.legend()\n",
    "\n",
    "# ax2.figure(figsize=(20,6))\n",
    "ax2.set_title(\"Gráfico de perplexidade por epocas\")\n",
    "ax2.plot(train_ppl, label = 'perplexidade treino')\n",
    "ax2.plot(val_ppl, label = 'perplexidade validação')\n",
    "ax2.set_xlabel(\"Epocas\")\n",
    "ax2.set_ylabel(\"Perplexidade\")\n",
    "ax2.legend()\n",
    "\n",
    "plt.savefig(\"10_epochs_train.png\", dpi=300)\n",
    "plt.show()"
   ]
  },
  {
   "cell_type": "code",
   "execution_count": 29,
   "metadata": {},
   "outputs": [
    {
     "name": "stdout",
     "output_type": "stream",
     "text": [
      "Edgar Allan Poe\n",
      "EAP once upon a time suspected. \"we'd raymond; leetle loot, profound, well,' afraid \"alberto proprietors,\n",
      "\n",
      "\n",
      "\n",
      "Marry Shelley\n",
      "MWS once upon a time nicely tumultuously cygnus. bat yearns stapleton, ideal mass. gamekeepers osborne.\n",
      "\n",
      "\n",
      "\n",
      "HP Lovecraft\n",
      "HPL once upon a time vases, aspires background; homes, \"feb. salary, awkwardly corresponded last. treasuries\n",
      "\n",
      "\n",
      "\n"
     ]
    }
   ],
   "source": [
    "## Visualizando o modelo em 10 iterações de geração de texto\n",
    "torch.manual_seed(42)\n",
    "test = 'EAP once upon a time'\n",
    "\n",
    "decode_tokens = []\n",
    "decode_tokens.extend(test.split())\n",
    "\n",
    "test = [vocab[t] for t in test.split()]\n",
    "\n",
    "test = torch.tensor(test).type(torch.long).to(device)\n",
    "\n",
    "next_token = torch.argmax(model(test))\n",
    "\n",
    "vocab_t[int(next_token)]\n",
    "\n",
    "EAP_token = torch.tensor([44897]).to(device)\n",
    "MWS_token = torch.tensor([44898]).to(device)\n",
    "HPL_token = torch.tensor([44899]).to(device)\n",
    "\n",
    "# print(EAP_token)\n",
    "\n",
    "N = 10\n",
    "\n",
    "print(\"Edgar Allan Poe\")\n",
    "context = test\n",
    "for i in range(N):\n",
    "    next_token = decode_model(model(context), k = 10, p = 0.95, method='ns')\n",
    "    \n",
    "    context = torch.cat([EAP_token, context[2:], next_token[0]])\n",
    "    \n",
    "    decode_tokens.append(vocab_t[int(next_token.cpu()[0])][0])\n",
    "    \n",
    "# print(decode_tokens)\n",
    "print(' '.join(decode_tokens))\n",
    "print('\\n\\n')\n",
    "\n",
    "print(\"Marry Shelley\")\n",
    "test = 'MWS once upon a time'\n",
    "\n",
    "decode_tokens = []\n",
    "decode_tokens.extend(test.split())\n",
    "test = [vocab[t] for t in test.split()]\n",
    "\n",
    "test = torch.tensor(test).type(torch.long).to(device)\n",
    "context = test\n",
    "for i in range(N):\n",
    "    next_token = decode_model(model(context), k = 10, p = 0.95, method='ns')\n",
    "    \n",
    "    context = torch.cat([MWS_token, context[2:], next_token[0]])\n",
    "    \n",
    "    decode_tokens.append(vocab_t[int(next_token.cpu()[0])][0])\n",
    "    \n",
    "# print(decode_tokens)\n",
    "print(' '.join(decode_tokens))\n",
    "print('\\n\\n')\n",
    "\n",
    "print(\"HP Lovecraft\")\n",
    "test = 'HPL once upon a time'\n",
    "\n",
    "decode_tokens = []\n",
    "decode_tokens.extend(test.split())\n",
    "test = [vocab[t] for t in test.split()]\n",
    "\n",
    "test = torch.tensor(test).type(torch.long).to(device)\n",
    "context = test\n",
    "for i in range(N):\n",
    "    next_token = decode_model(model(context), k = 10, p = 0.95, method='ns')\n",
    "    \n",
    "    context = torch.cat([HPL_token, context[2:], next_token[0]])\n",
    "    \n",
    "    decode_tokens.append(vocab_t[int(next_token.cpu()[0])][0])\n",
    "    \n",
    "# print(decode_tokens)\n",
    "print(' '.join(decode_tokens))\n",
    "print('\\n\\n')"
   ]
  },
  {
   "cell_type": "code",
   "execution_count": 30,
   "metadata": {},
   "outputs": [],
   "source": [
    "filepath = 'model_10_epochs.pt'\n",
    "torch.save(model.state_dict(), filepath)"
   ]
  },
  {
   "cell_type": "code",
   "execution_count": 31,
   "metadata": {},
   "outputs": [
    {
     "name": "stdout",
     "output_type": "stream",
     "text": [
      "EPOCH 1/10: trainning loss: 7.009887338914928 val loss: 7.8602417186625955 | trainning ppl: 1107.5297223714963 val ppl: 2592.1468699664692\n",
      "EPOCH 2/10: trainning loss: 6.975683626178035 val loss: 7.832617618505237 | trainning ppl: 1070.2886165506368 val ppl: 2521.5211226648667\n",
      "EPOCH 3/10: trainning loss: 6.945404266676522 val loss: 7.807030562058236 | trainning ppl: 1038.3666894168937 val ppl: 2457.8212409099647\n",
      "EPOCH 4/10: trainning loss: 6.918286742625322 val loss: 7.78511244347952 | trainning ppl: 1010.5871146971951 val ppl: 2404.5365072278933\n",
      "EPOCH 5/10: trainning loss: 6.8937229296877485 val loss: 7.765232861620708 | trainning ppl: 986.0656452190652 val ppl: 2357.207327737552\n",
      "EPOCH 6/10: trainning loss: 6.871343468920425 val loss: 7.745924572342807 | trainning ppl: 964.2431266885875 val ppl: 2312.130267646618\n",
      "EPOCH 7/10: trainning loss: 6.850814485731234 val loss: 7.729999023733787 | trainning ppl: 944.6499973662277 val ppl: 2275.5999791948593\n",
      "EPOCH 8/10: trainning loss: 6.83181102815884 val loss: 7.714451164875216 | trainning ppl: 926.8678772401382 val ppl: 2240.4928990803783\n",
      "EPOCH 9/10: trainning loss: 6.814178459544599 val loss: 7.700299603267781 | trainning ppl: 910.6680577311225 val ppl: 2209.0097192848707\n",
      "EPOCH 10/10: trainning loss: 6.797812768261696 val loss: 7.687167274141775 | trainning ppl: 895.8856376359723 val ppl: 2180.1899262947486\n"
     ]
    }
   ],
   "source": [
    "# Training more 10 epochs\n",
    "train_loss, val_loss, train_ppl, val_ppl = train(train_loader, val_loader, model, epoch = 10, optimizer = opt, criterion = loss_func, verbose = True)"
   ]
  },
  {
   "cell_type": "code",
   "execution_count": 32,
   "metadata": {},
   "outputs": [
    {
     "data": {
      "image/png": "[encoded data removed]",
      "text/plain": [
       "<Figure size 720x360 with 2 Axes>"
      ]
     },
     "metadata": {
      "needs_background": "light"
     },
     "output_type": "display_data"
    }
   ],
   "source": [
    "fig, (ax1, ax2) = plt.subplots(1, 2, figsize = (10,5))\n",
    "\n",
    "# fig.set_title('Estado do modelo 10 épocas',fontsize= 25)\n",
    "\n",
    "# plt.figure(figsize=(20,6))\n",
    "ax1.set_title(\"Gráfico de perda por epocas\")\n",
    "ax1.plot(train_loss, label = 'perda treino')\n",
    "ax1.plot(val_loss, label = 'perda validação')\n",
    "ax1.set_xlabel(\"Epocas\")\n",
    "ax1.set_ylabel(\"Perda\")\n",
    "ax1.legend()\n",
    "\n",
    "# ax2.figure(figsize=(20,6))\n",
    "ax2.set_title(\"Gráfico de perplexidade por epocas\")\n",
    "ax2.plot(train_ppl, label = 'perplexidade treino')\n",
    "ax2.plot(val_ppl, label = 'perplexidade validação')\n",
    "ax2.set_xlabel(\"Epocas\")\n",
    "ax2.set_ylabel(\"Perplexidade\")\n",
    "ax2.legend()\n",
    "\n",
    "plt.savefig(\"20_epochs_train.png\", dpi=300)\n",
    "plt.show()"
   ]
  },
  {
   "cell_type": "code",
   "execution_count": 33,
   "metadata": {},
   "outputs": [
    {
     "name": "stdout",
     "output_type": "stream",
     "text": [
      "Edgar Allan Poe\n",
      "EAP once upon a time respite ermined unaltered, offered. elementary nuts, counts, validity use. torture\n",
      "\n",
      "\n",
      "\n",
      "Marry Shelley\n",
      "MWS once upon a time household lomond attribute thumb.\" cambridge, experienced. nations? countess 'snob' agile,\n",
      "\n",
      "\n",
      "\n",
      "HP Lovecraft\n",
      "HPL once upon a time flash moderate. patients,\" galleons. saucers super stores, intricate blush. puzzled,\n",
      "\n",
      "\n",
      "\n"
     ]
    }
   ],
   "source": [
    "## Visualizando o modelo em 10 iterações de geração de texto\n",
    "torch.manual_seed(42)\n",
    "test = 'EAP once upon a time'\n",
    "\n",
    "decode_tokens = []\n",
    "decode_tokens.extend(test.split())\n",
    "\n",
    "test = [vocab[t] for t in test.split()]\n",
    "\n",
    "test = torch.tensor(test).type(torch.long).to(device)\n",
    "\n",
    "next_token = torch.argmax(model(test))\n",
    "\n",
    "vocab_t[int(next_token)]\n",
    "\n",
    "EAP_token = torch.tensor([44897]).to(device)\n",
    "MWS_token = torch.tensor([44898]).to(device)\n",
    "HPL_token = torch.tensor([44899]).to(device)\n",
    "\n",
    "# print(EAP_token)\n",
    "\n",
    "N = 10\n",
    "\n",
    "print(\"Edgar Allan Poe\")\n",
    "context = test\n",
    "for i in range(N):\n",
    "    next_token = decode_model(model(context), k = 10, p = 0.95, method='ns')\n",
    "    \n",
    "    context = torch.cat([EAP_token, context[2:], next_token[0]])\n",
    "    \n",
    "    decode_tokens.append(vocab_t[int(next_token.cpu()[0])][0])\n",
    "    \n",
    "# print(decode_tokens)\n",
    "print(' '.join(decode_tokens))\n",
    "print('\\n\\n')\n",
    "\n",
    "print(\"Marry Shelley\")\n",
    "test = 'MWS once upon a time'\n",
    "\n",
    "decode_tokens = []\n",
    "decode_tokens.extend(test.split())\n",
    "test = [vocab[t] for t in test.split()]\n",
    "\n",
    "test = torch.tensor(test).type(torch.long).to(device)\n",
    "context = test\n",
    "for i in range(N):\n",
    "    next_token = decode_model(model(context), k = 10, p = 0.95, method='ns')\n",
    "    \n",
    "    context = torch.cat([MWS_token, context[2:], next_token[0]])\n",
    "    \n",
    "    decode_tokens.append(vocab_t[int(next_token.cpu()[0])][0])\n",
    "    \n",
    "# print(decode_tokens)\n",
    "print(' '.join(decode_tokens))\n",
    "print('\\n\\n')\n",
    "\n",
    "print(\"HP Lovecraft\")\n",
    "test = 'HPL once upon a time'\n",
    "\n",
    "decode_tokens = []\n",
    "decode_tokens.extend(test.split())\n",
    "test = [vocab[t] for t in test.split()]\n",
    "\n",
    "test = torch.tensor(test).type(torch.long).to(device)\n",
    "context = test\n",
    "for i in range(N):\n",
    "    next_token = decode_model(model(context), k = 10, p = 0.95, method='ns')\n",
    "    \n",
    "    context = torch.cat([HPL_token, context[2:], next_token[0]])\n",
    "    \n",
    "    decode_tokens.append(vocab_t[int(next_token.cpu()[0])][0])\n",
    "    \n",
    "# print(decode_tokens)\n",
    "print(' '.join(decode_tokens))\n",
    "print('\\n\\n')"
   ]
  },
  {
   "cell_type": "code",
   "execution_count": 34,
   "metadata": {},
   "outputs": [],
   "source": [
    "filepath = 'model_20_epochs.pt'\n",
    "torch.save(model.state_dict(), filepath)"
   ]
  },
  {
   "cell_type": "markdown",
   "metadata": {},
   "source": [
    "# Visualizing in lower dimension"
   ]
  },
  {
   "cell_type": "code",
   "execution_count": 35,
   "metadata": {},
   "outputs": [],
   "source": [
    "# Visualization in lower dimension\n",
    "model.eval()\n",
    "\n",
    "normalizador = 1\n",
    "\n",
    "embeddings = []\n",
    "\n",
    "with torch.no_grad():\n",
    "  # Começo da avaliação em mini batches\n",
    "  for x, y in val_loader:\n",
    "    # Habilitando gpu \n",
    "    x = x.to(device)\n",
    "    \n",
    "    # Foward\n",
    "    encoded = model.embedding(x)\n",
    "    \n",
    "    embeddings.extend(encoded.cpu().detach().tolist())"
   ]
  },
  {
   "cell_type": "code",
   "execution_count": 36,
   "metadata": {},
   "outputs": [
    {
     "name": "stderr",
     "output_type": "stream",
     "text": [
      "c:\\users\\lucas\\anaconda3\\envs\\reproducibility\\lib\\site-packages\\numba\\np\\ufunc\\parallel.py:355: NumbaWarning: \u001b[1mThe TBB threading layer requires TBB version 2019.5 or later i.e., TBB_INTERFACE_VERSION >= 11005. Found TBB_INTERFACE_VERSION = 11000. The TBB threading layer is disabled.\u001b[0m\n",
      "  warnings.warn(problem)\n"
     ]
    },
    {
     "data": {
      "text/plain": [
       "(52336, 2)"
      ]
     },
     "execution_count": 36,
     "metadata": {},
     "output_type": "execute_result"
    }
   ],
   "source": [
    "import umap\n",
    "reducer = umap.UMAP()\n",
    "\n",
    "umaps = reducer.fit_transform(np.array(embeddings))\n",
    "\n",
    "umaps.shape"
   ]
  },
  {
   "cell_type": "code",
   "execution_count": 37,
   "metadata": {},
   "outputs": [
    {
     "data": {
      "text/html": [
       "<div>\n",
       "<style scoped>\n",
       "    .dataframe tbody tr th:only-of-type {\n",
       "        vertical-align: middle;\n",
       "    }\n",
       "\n",
       "    .dataframe tbody tr th {\n",
       "        vertical-align: top;\n",
       "    }\n",
       "\n",
       "    .dataframe thead th {\n",
       "        text-align: right;\n",
       "    }\n",
       "</style>\n",
       "<table border=\"1\" class=\"dataframe\">\n",
       "  <thead>\n",
       "    <tr style=\"text-align: right;\">\n",
       "      <th></th>\n",
       "      <th>u1</th>\n",
       "      <th>u2</th>\n",
       "      <th>targets</th>\n",
       "    </tr>\n",
       "  </thead>\n",
       "  <tbody>\n",
       "    <tr>\n",
       "      <th>51367</th>\n",
       "      <td>10.791597</td>\n",
       "      <td>9.674500</td>\n",
       "      <td>44897</td>\n",
       "    </tr>\n",
       "    <tr>\n",
       "      <th>388580</th>\n",
       "      <td>13.208870</td>\n",
       "      <td>15.858609</td>\n",
       "      <td>44897</td>\n",
       "    </tr>\n",
       "    <tr>\n",
       "      <th>44587</th>\n",
       "      <td>12.129350</td>\n",
       "      <td>10.951943</td>\n",
       "      <td>44899</td>\n",
       "    </tr>\n",
       "    <tr>\n",
       "      <th>439304</th>\n",
       "      <td>9.374265</td>\n",
       "      <td>14.316199</td>\n",
       "      <td>44897</td>\n",
       "    </tr>\n",
       "    <tr>\n",
       "      <th>233289</th>\n",
       "      <td>21.646910</td>\n",
       "      <td>7.578076</td>\n",
       "      <td>44897</td>\n",
       "    </tr>\n",
       "  </tbody>\n",
       "</table>\n",
       "</div>"
      ],
      "text/plain": [
       "               u1         u2  targets\n",
       "51367   10.791597   9.674500    44897\n",
       "388580  13.208870  15.858609    44897\n",
       "44587   12.129350  10.951943    44899\n",
       "439304   9.374265  14.316199    44897\n",
       "233289  21.646910   7.578076    44897"
      ]
     },
     "execution_count": 37,
     "metadata": {},
     "output_type": "execute_result"
    }
   ],
   "source": [
    "umap_df = pd.DataFrame({'u1': umaps[:,0], 'u2': umaps[:,1], 'targets': df_val_authors})\n",
    "umap_df.head()"
   ]
  },
  {
   "cell_type": "code",
   "execution_count": 38,
   "metadata": {},
   "outputs": [
    {
     "data": {
      "image/png": "[encoded data removed]",
      "text/plain": [
       "<Figure size 720x360 with 1 Axes>"
      ]
     },
     "metadata": {
      "needs_background": "light"
     },
     "output_type": "display_data"
    }
   ],
   "source": [
    "plt.figure(figsize = (10,5))\n",
    "# plt.scatter(umaps[:, 0], umaps[:, 1], c=[sns.color_palette()[x] for x in np.array(targets_val).astype(int)])\n",
    "\n",
    "for t in np.unique(df_val_authors):\n",
    "  # if(t in [2,6]):\n",
    "  plt.scatter(umap_df[umap_df.targets == t]['u1'], umap_df[umap_df.targets == t]['u2'], alpha =  0.2, label = f'Author {vocab_t[t]}')\n",
    "  # plt.scatter(centroids[centroids['target'] == t]['x'],centroids[centroids['target'] == t]['y'], linewidths=5,label = f'CENTROID Emotion {map_emotion(t)}')\n",
    "  \n",
    "plt.legend()\n",
    "\n",
    "plt.gca().set_aspect('equal', 'datalim')\n",
    "plt.savefig(\"umap_embedding.png\", dpi = 300)\n",
    "plt.title('Embeddings per author', fontsize=18);"
   ]
  }
 ],
 "metadata": {
  "kernelspec": {
   "display_name": "rep",
   "language": "python",
   "name": "rep"
  },
  "language_info": {
   "codemirror_mode": {
    "name": "ipython",
    "version": 3
   },
   "file_extension": ".py",
   "mimetype": "text/x-python",
   "name": "python",
   "nbconvert_exporter": "python",
   "pygments_lexer": "ipython3",
   "version": "3.8.3"
  }
 },
 "nbformat": 4,
 "nbformat_minor": 4
}
